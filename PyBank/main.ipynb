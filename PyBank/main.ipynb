{
 "cells": [
  {
   "cell_type": "code",
   "execution_count": 1,
   "source": [
    "import os\r\n",
    "import csv"
   ],
   "outputs": [],
   "metadata": {}
  },
  {
   "cell_type": "code",
   "execution_count": 3,
   "source": [
    "path=os.getcwd()\r\n",
    "print (path)"
   ],
   "outputs": [
    {
     "output_type": "stream",
     "name": "stdout",
     "text": [
      "c:\\Users\\jayro\\Desktop\\python-challenge\\PyBank\n"
     ]
    }
   ],
   "metadata": {}
  },
  {
   "cell_type": "code",
   "execution_count": 4,
   "source": [
    "csvpath = os.path.join('Resources','budget_data.csv')"
   ],
   "outputs": [],
   "metadata": {}
  },
  {
   "cell_type": "code",
   "execution_count": 6,
   "source": [
    "#define variables\r\n",
    "total_months = 0\r\n",
    "net_amount = 0\r\n",
    "monthly_change = []\r\n",
    "month_count = []\r\n",
    "greatest_increase = 0\r\n",
    "greatest_increase_month = 0\r\n",
    "greatest_decrease = 0\r\n",
    "greatest_decrease_month = 0"
   ],
   "outputs": [],
   "metadata": {}
  },
  {
   "cell_type": "code",
   "execution_count": 11,
   "source": [
    "# csv reader\r\n",
    "with open(csvpath, 'r') as csvfile:\r\n",
    "    \r\n",
    "    csvreader = csv.reader(csvfile, delimiter=',')\r\n",
    "    \r\n",
    "    #skip header\r\n",
    "    csv_header = next(csvreader)\r\n",
    "    row = next(csvreader)\r\n",
    "    \r\n",
    "    #set variables\r\n",
    "    previous_row = int(row[1])\r\n",
    "    total_months += 1\r\n",
    "    net_amount += int(row[1])\r\n",
    "    greatest_increase = int(row[1])\r\n",
    "    greatest_increase_month = row[0]\r\n",
    "    # loop through the data\r\n",
    "    for row in csvreader:\r\n",
    "        total_months += 1\r\n",
    "        net_amount += int(row[1])\r\n",
    "        #finding the greatest increase in profits and greatest decrease in profits\r\n",
    "        revenue_change = int(row[1]) - previous_row\r\n",
    "        monthly_change.append(revenue_change)\r\n",
    "        previous_row = int(row[1])\r\n",
    "        month_count.append(row[0])\r\n",
    "\r\n",
    "        if int(row[1]) > greatest_increase:\r\n",
    "            greatest_increase = int(row[1])\r\n",
    "            greatest_increase_month = row[0]\r\n",
    "        if int(row[1]) < greatest_decrease:\r\n",
    "            greatest_decrease = int(row[1])\r\n",
    "            greatest_decrease_month = row[0] \r\n",
    "\r\n",
    "    average_change = sum(monthly_change)/len(monthly_change)\r\n",
    "\r\n",
    "    highest = max(monthly_change)\r\n",
    "    lowest = min(monthly_change)"
   ],
   "outputs": [],
   "metadata": {}
  },
  {
   "cell_type": "code",
   "execution_count": null,
   "source": [
    "#printing results to text file\r\n",
    "print(f\"Financial Analysis\")\r\n",
    "print(f\"---------------------------\")\r\n",
    "print(f\"Total Months: {total_months}\")\r\n",
    "print(f\"Total: ${net_amount}\")\r\n",
    "print(f\"Average Change: ${average_change:.2f}\")\r\n",
    "print(f\"Greatest Increase in Profits:, {greatest_increase_month}, (${highest})\")\r\n",
    "print(f\"Greatest Decrease in Profits:, {greatest_decrease_month}, (${lowest})\")\r\n",
    "\r\n",
    "output_file = os.path.join('analysis','budget_data.text')\r\n",
    "\r\n",
    "with open(output_file, 'w',) as txtfile:\r\n",
    "\r\n",
    "    txtfile.write(f\"Financial Analysis\\n\")\r\n",
    "    txtfile.write(f\"---------------------------\\n\")\r\n",
    "    txtfile.write(f\"Total Months: {total_months}\\n\")\r\n",
    "    txtfile.write(f\"Total: ${net_amount}\\n\")\r\n",
    "    txtfile.write(f\"Average Change: ${average_change}\\n\")\r\n",
    "    txtfile.write(f\"Greatest Increase in Profits:, {greatest_increase_month}, (${highest})\\n\")\r\n",
    "    txtfile.write(f\"Greatest Decrease in Profits:, {greatest_decrease_month}, (${lowest})\\n\")\r\n",
    "    "
   ],
   "outputs": [],
   "metadata": {}
  }
 ],
 "metadata": {
  "orig_nbformat": 4,
  "language_info": {
   "name": "python",
   "version": "3.8.8",
   "mimetype": "text/x-python",
   "codemirror_mode": {
    "name": "ipython",
    "version": 3
   },
   "pygments_lexer": "ipython3",
   "nbconvert_exporter": "python",
   "file_extension": ".py"
  },
  "kernelspec": {
   "name": "python3",
   "display_name": "Python 3.8.8 64-bit ('base': conda)"
  },
  "interpreter": {
   "hash": "5f64f01a6cdb813bd23f3c2980301e513b65108ef9650403b1a46775be8a9390"
  }
 },
 "nbformat": 4,
 "nbformat_minor": 2
}