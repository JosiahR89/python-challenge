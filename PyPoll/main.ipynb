{
 "cells": [
  {
   "cell_type": "code",
   "execution_count": 1,
   "source": [
    "#import dependencies\r\n",
    "import os\r\n",
    "import csv"
   ],
   "outputs": [],
   "metadata": {}
  },
  {
   "cell_type": "code",
   "execution_count": 2,
   "source": [
    "#filepath\r\n",
    "election_file = os.path.join(os.getcwd(),'Resources','election_data.csv')"
   ],
   "outputs": [],
   "metadata": {}
  },
  {
   "cell_type": "code",
   "execution_count": 3,
   "source": [
    "#initialize variables\r\n",
    "total_votes = 0\r\n",
    "khan_votes = 0\r\n",
    "correy_votes = 0\r\n",
    "li_votes = 0\r\n",
    "otooley_votes = 0"
   ],
   "outputs": [],
   "metadata": {}
  },
  {
   "cell_type": "code",
   "execution_count": 9,
   "source": [
    "#create the loop\r\n",
    "with open(election_file,'r') as csvfile:\r\n",
    "    csvreader = csv.reader(csvfile, delimiter = ',')\r\n",
    "    \r\n",
    "    #skip header row\r\n",
    "    csv_header = next(csvfile)\r\n",
    "    \r\n",
    "    #loop through data for total_votes\r\n",
    "    for row in csvreader:\r\n",
    "        total_votes += 1\r\n",
    "        #calculate votes for each candidate\r\n",
    "        if (row[2] == 'Khan'):\r\n",
    "            khan_votes +=1\r\n",
    "        elif (row[2] == 'Correy'):\r\n",
    "            correy_votes += 1\r\n",
    "        elif (row[2] == 'Li'):\r\n",
    "            li_votes += 1\r\n",
    "        else:\r\n",
    "            otooley_votes += 1\r\n",
    "            \r\n",
    "    #show number of votes as percentages\r\n",
    "    khan_percent = khan_votes / total_votes\r\n",
    "    correy_percent = correy_votes / total_votes\r\n",
    "    li_percent = li_votes / total_votes\r\n",
    "    otooley_percent = otooley_votes / total_votes\r\n",
    "    \r\n",
    "    #calculate the winner\r\n",
    "    winner = max(khan_votes, correy_votes, li_votes, otooley_votes)\r\n",
    "    \r\n",
    "    if winner == khan_votes:\r\n",
    "        winner_name = 'Khan'\r\n",
    "    elif winner == correy_votes:\r\n",
    "        winner_name = 'Correy'\r\n",
    "    elif winner == li_votes: \r\n",
    "        winner_name = 'Li'\r\n",
    "    else:\r\n",
    "        winner_name = \"O'Tooley\""
   ],
   "outputs": [],
   "metadata": {}
  },
  {
   "cell_type": "code",
   "execution_count": 8,
   "source": [
    "#To terminal\r\n",
    "print(f'Election Results')\r\n",
    "print(f'*****************************')\r\n",
    "print(f'Total Votes: {total_votes}')\r\n",
    "print(f'*****************************')\r\n",
    "print(f'Khan: {khan_percent:%}({khan_votes})')\r\n",
    "print(f'Correy: {correy_percent:%}({correy_votes})')\r\n",
    "print(f'Li: {li_percent:%}({li_votes})')\r\n",
    "print(f\"O'Tooley: {otooley_percent:%}({otooley_votes})\")\r\n",
    "print(f'*****************************')\r\n",
    "print(f'Winner: {winner_name}')\r\n",
    "print(f'Congratulations, {winner_name}!!!')"
   ],
   "outputs": [
    {
     "output_type": "stream",
     "name": "stdout",
     "text": [
      "Election Results\n",
      "*****************************\n",
      "Total Votes: 14084004\n",
      "*****************************\n",
      "Khan: 63.000011%(8872924)\n",
      "Correy: 19.999994%(2816800)\n",
      "Li: 13.999996%(1971760)\n",
      "O'Tooley: 2.999999%(422520)\n",
      "*****************************\n",
      "Winner: Khan\n",
      "Congratulations, Khan!!!\n"
     ]
    }
   ],
   "metadata": {}
  },
  {
   "cell_type": "code",
   "execution_count": null,
   "source": [
    "#write to text file\r\n",
    "output_file = os.path.join('analysis','election_data.text')\r\n",
    "\r\n",
    "with open(output_file, 'w') as txtfile:\r\n",
    "    txtfile.write(f'Election Results\\n')\r\n",
    "    txtfile.write(f'*****************************\\n')\r\n",
    "    txtfile.write(f'Total Votes: {total_votes}\\n')\r\n",
    "    txtfile.write(f'*****************************')\r\n",
    "    txtfile.write(f'Khan: {khan_percent:%}({khan_votes})\\n')\r\n",
    "    txtfile.write(f'Correy: {correy_percent:%}({correy_votes})\\n')\r\n",
    "    txtfile.write(f'Li: {li_percent:%}({li_votes})\\n')\r\n",
    "    txtfile.write(f\"O'Tooley: {otooley_percent:%}({otooley_votes})\\n\")\r\n",
    "    txtfile.write(f'*****************************\\n')\r\n",
    "    txtfile.write(f'Winner: {winner_name}\\n')\r\n",
    "    txtfile.write(f'Congratulations, {winner_name}!!!\\n')"
   ],
   "outputs": [],
   "metadata": {}
  }
 ],
 "metadata": {
  "orig_nbformat": 4,
  "language_info": {
   "name": "python",
   "version": "3.8.8",
   "mimetype": "text/x-python",
   "codemirror_mode": {
    "name": "ipython",
    "version": 3
   },
   "pygments_lexer": "ipython3",
   "nbconvert_exporter": "python",
   "file_extension": ".py"
  },
  "kernelspec": {
   "name": "python3",
   "display_name": "Python 3.8.8 64-bit ('base': conda)"
  },
  "interpreter": {
   "hash": "5f64f01a6cdb813bd23f3c2980301e513b65108ef9650403b1a46775be8a9390"
  }
 },
 "nbformat": 4,
 "nbformat_minor": 2
}